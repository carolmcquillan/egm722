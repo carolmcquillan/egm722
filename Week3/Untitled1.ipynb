{
 "cells": [
  {
   "cell_type": "code",
   "execution_count": 6,
   "id": "5a7b5091",
   "metadata": {},
   "outputs": [
    {
     "data": {
      "text/plain": [
       "739.0079756008741"
      ]
     },
     "execution_count": 6,
     "metadata": {},
     "output_type": "execute_result"
    }
   ],
   "source": [
    "import geopandas as gpd\n",
    "from mpl_toolkits.axes_grid1 import make_axes_locatable\n",
    "from cartopy.feature import ShapelyFeature\n",
    "import cartopy.crs as ccrs\n",
    "import os\n",
    "import matplotlib.patches as mpatches\n",
    "import matplotlib.lines as mlines\n",
    "import matplotlib.pyplot as plt\n",
    "\n",
    "\n",
    "# try to print the results to the screen using the format method demonstrated in the workbook\n",
    "plt.ion() # make the plotting interactive\n",
    "\n",
    "\n",
    "myCRS = ccrs.UTM(29)  # create a Universal Transverse Mercator reference system to transform our data.\n",
    "\n",
    "# load the necessary data here and transform to a UTM projection\n",
    "Counties = gpd.read_file(os.path.abspath('data_files/Counties.shp'))\n",
    "Wards = gpd.read_file(os.path.abspath('data_files/NI_Wards.shp'))\n",
    "\n",
    "for ind, row in Wards.iterrows(): # iterate over each row in the GeoDataFrame\n",
    "    Wards.loc[ind, 'Area'] = row['geometry'].area # assign the row's geometry length to a new column, Length\n",
    "\n",
    "\n",
    "# your analysis goes here...\n",
    "\n",
    "join = gpd.sjoin(Counties, Wards, how='inner', lsuffix='left', rsuffix='right') # perform the spatial join of counties and wards\n",
    "#joinedData = join.groupby(['CountyName'])['Population'].sum() # assign summary data to variable to be printed\n",
    "#print(joinedData)\n",
    "    \n",
    "    \n",
    "\n",
    "Counties = Counties.to_crs(epsg=2157)\n",
    "Wards = Wards.to_crs(epsg=2157)\n",
    "Wards['Pop_km2'] = Wards['Population']/Wards['Area'] *0.00001\n",
    "\n",
    "\n",
    "Wards.Pop_km2.max()"
   ]
  }
 ],
 "metadata": {
  "kernelspec": {
   "display_name": "Python 3 (ipykernel)",
   "language": "python",
   "name": "python3"
  },
  "language_info": {
   "codemirror_mode": {
    "name": "ipython",
    "version": 3
   },
   "file_extension": ".py",
   "mimetype": "text/x-python",
   "name": "python",
   "nbconvert_exporter": "python",
   "pygments_lexer": "ipython3",
   "version": "3.9.16"
  }
 },
 "nbformat": 4,
 "nbformat_minor": 5
}
