{
 "cells": [
  {
   "cell_type": "code",
   "execution_count": null,
   "metadata": {},
   "outputs": [],
   "source": [
    "# this lets us use the figures interactively\n",
    "%matplotlib inline \n",
    "\n",
    "import pandas as pd\n",
    "import geopandas as gpd\n",
    "import matplotlib.pyplot as plt\n",
    "import matplotlib.patches as mpatches\n",
    "import cartopy.crs  as ccrs\n",
    "from shapely.geometry import Point, LineString, Polygon\n",
    "from mpl_toolkits.axes_grid1 import make_axes_locatable\n",
    "from cartopy.feature import ShapelyFeature\n",
    "\n",
    "\n",
    "\n",
    "\n",
    "# ---------------------------------------------------------------------------------------------------------------------\n",
    "Counties = gpd.read_file('data_files/Counties.shp')#  to load the ward and county data and complete the main part of the analysis.\n",
    "NIWards = gpd.read_file('data_files/NI_Wards.shp')\n",
    "\n",
    "# load the necessary data here and transform to a UTM projection\n",
    "#Counties_itm = Counties.to_crs(epsg=2157) # transform to Irish Transverse Mercator using EPSG2157\n",
    "#NIWards_itm = Counties.to_crs(epsg=2157) # transform to Irish Transverse Mercator using EPSG2157\n",
    "\n",
    "for ind, row in NIWards.iterrows(): # iterate over each row in the GeoDataFrame\n",
    "    NIWards.loc[ind, 'Area'] = row['geometry'].area # assign area to new field \n",
    "\n",
    "# your analysis goes here...\n",
    "join = gpd.sjoin(Counties, NIWards, how='inner', lsuffix='left', rsuffix='right') # perform the spatial join of counties and wards\n",
    "joinedData = join.groupby(['CountyName'])['Population'].sum() # assign summary data to variable to be printed\n",
    "print(joinedData)\n",
    "\n",
    "\n",
    "\n",
    "\n",
    "\n",
    "# ---------------------------------------------------------------------------------------------------------------------\n",
    "\n",
    "# below here, you may need to modify the script somewhat to create your map.\n",
    "# create a crs using ccrs.UTM() that corresponds to our CRS\n",
    "myCRS = ccrs.UTM(29)\n",
    "# create a figure of size 10x10 (representing the page size in inches\n",
    "\n",
    "\n",
    "fig, ax = plt.subplots(1, 1, figsize=(10, 10), subplot_kw=dict(projection=myCRS))\n",
    "\n",
    "\n",
    "\n",
    "# add gridlines below\n",
    "gridlines = ax.gridlines(draw_labels=True,\n",
    "                         xlocs=[-8, -7.5, -7, -6.5, -6, -5.5],\n",
    "                         ylocs=[54, 54.5, 55, 55.5],\n",
    "                         linewidth = 0.5, color = 'gray', alpha = 0.5, linestyle='--')\n",
    "\n",
    "gridlines.right_labels = False\n",
    "gridlines.bottom_labels = False\n",
    "gridlines.left_labels = True\n",
    "gridlines.top_labels = True\n",
    "\n",
    "# to make a nice colorbar that stays in line with our map, use these lines:\n",
    "divider = make_axes_locatable(ax)\n",
    "cax = divider.append_axes(\"right\", size=\"5%\", pad=0.1, axes_class=plt.Axes)\n",
    "\n",
    "\n",
    "# plot the ward data into our axis, using\n",
    "ward_plot = NIWards.plot(column='Population', ax=ax, vmin=1000, vmax=8000, cmap='viridis',\n",
    "                       legend=True, cax=cax, legend_kwds={'label': 'Resident Population'})\n",
    "\n",
    "\n",
    "county_outlines = ShapelyFeature(Counties['geometry'], myCRS, edgecolor='r', facecolor='none')\n",
    "\n",
    "\n",
    "ax.add_feature(county_outlines)\n",
    "county_handles = [mpatches.Rectangle((0, 0), 1, 1, facecolor='none', edgecolor='r')]\n",
    "\n",
    "ax.legend(county_handles, ['County Boundaries'], fontsize=12, loc='upper left', framealpha=1)\n",
    "\n",
    "# save the figure\n",
    "fig.savefig('sample_map.png', dpi=300, bbox_inches='tight')\n",
    "\n",
    "\n"
   ]
  },
  {
   "cell_type": "code",
   "execution_count": null,
   "metadata": {},
   "outputs": [],
   "source": [
    "NIWards.head()"
   ]
  },
  {
   "cell_type": "code",
   "execution_count": null,
   "metadata": {},
   "outputs": [],
   "source": [
    "print(NIWards.shape)\n",
    "print(join.shape)"
   ]
  },
  {
   "cell_type": "code",
   "execution_count": null,
   "metadata": {},
   "outputs": [],
   "source": [
    "join.head()"
   ]
  },
  {
   "cell_type": "code",
   "execution_count": null,
   "metadata": {},
   "outputs": [],
   "source": [
    "join[join['Population']==join['Population'].max()]"
   ]
  },
  {
   "cell_type": "code",
   "execution_count": null,
   "metadata": {},
   "outputs": [],
   "source": [
    "join[join['Population']==join['Population'].min()]"
   ]
  },
  {
   "cell_type": "code",
   "execution_count": null,
   "metadata": {},
   "outputs": [],
   "source": [
    "print(join.columns)\n",
    "\n"
   ]
  },
  {
   "cell_type": "code",
   "execution_count": null,
   "metadata": {},
   "outputs": [],
   "source": [
    "print(type(join))\n",
    "a =join.groupby(['CountyName', 'Ward Code'])['Ward Code'].count()\n"
   ]
  },
  {
   "cell_type": "code",
   "execution_count": null,
   "metadata": {},
   "outputs": [],
   "source": [
    "a.shape\n",
    "print(a)\n",
    "\n",
    "\n"
   ]
  },
  {
   "cell_type": "code",
   "execution_count": null,
   "metadata": {},
   "outputs": [],
   "source": [
    "join.rename(columns={\"WardCode\":\"WardCode\"},inplace=True)\n",
    "join.columns\n",
    "\n"
   ]
  },
  {
   "cell_type": "code",
   "execution_count": null,
   "metadata": {},
   "outputs": [],
   "source": [
    "join.groupby(['WardCode', 'CountyName'])['Population'].sum()"
   ]
  },
  {
   "cell_type": "code",
   "execution_count": null,
   "metadata": {},
   "outputs": [],
   "source": [
    "join_total = join['Population'].sum()\n",
    "wards_total = NIWards['Population'].sum()\n",
    "print(join.groupby(['CountyName', 'Ward'])['Population'].sum())\n",
    "print('Population in wards item is: ', wards_total)\n",
    "print('Population from joined table is: ', join_total)\n",
    "popDupl= join_total-wards_total \n",
    "print('Population in duplicated wards = ', popDupl)"
   ]
  }
 ],
 "metadata": {
  "kernelspec": {
   "display_name": "Python 3 (ipykernel)",
   "language": "python",
   "name": "python3"
  },
  "language_info": {
   "codemirror_mode": {
    "name": "ipython",
    "version": 3
   },
   "file_extension": ".py",
   "mimetype": "text/x-python",
   "name": "python",
   "nbconvert_exporter": "python",
   "pygments_lexer": "ipython3",
   "version": "3.11.3"
  }
 },
 "nbformat": 4,
 "nbformat_minor": 4
}
