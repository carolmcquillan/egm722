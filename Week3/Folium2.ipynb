{
 "cells": [
  {
   "cell_type": "code",
   "execution_count": null,
   "id": "48709be2",
   "metadata": {
    "scrolled": true
   },
   "outputs": [],
   "source": [
    "import pandas as pd\n",
    "import geopandas as gpd\n",
    "import folium\n",
    "# Define the location to start the map at \n",
    "#location = (54.49700,-5.92995)\n",
    "\n",
    "# Initializing the map \n",
    "#map = folium.Map(location=location)\n",
    "#map"
   ]
  },
  {
   "cell_type": "code",
   "execution_count": null,
   "id": "4da5eaf3",
   "metadata": {},
   "outputs": [],
   "source": [
    "locations = (\"https://www.belfastcity.gov.uk/getmedia/f68a4e53-68df-429c-8ac8-a8be9411ab73/belfast-bike-stations-updated-25-june-2021.csv\")\n",
    "#\n",
    "bike_station_locations= pd.read_csv(locations)\n",
    "\n",
    "#gpd.GeoDataFrame(df[['Station number', 'Location', \"IG_Easting\", \"IG_Northing\"]], # use the csv data, but only the station number and locatoin columns\n",
    "                          #  geometry=gpd.points_from_xy(df['Longitude'], df['Latitude']), # set the geometry using points_from_xy\n",
    "                          #  crs='epsg:4326') # set the CRS using a text representation of the EPSG code for WGS84 lat/lon\n",
    "\n",
    "\n",
    "bike_station_locations # show the new geodataframe\n"
   ]
  },
  {
   "cell_type": "code",
   "execution_count": null,
   "id": "adb53b84",
   "metadata": {},
   "outputs": [],
   "source": [
    "# Creating the map and adding points to it\n",
    "\n",
    "map = folium.Map(location=[bike_station_locations.Latitude.mean(), bike_station_locations.Longitude.mean()], zoom_start=14, control_scale=True)\n",
    "\n",
    "\n",
    "for index, row in bike_station_locations.iterrows():\n",
    "    lat = row['Latitude']\n",
    "    long = row['Longitude']\n",
    "    name = row['Location']\n",
    "    \n",
    "    folium.Marker([lat, long], name).add_to(map)\n",
    "    \n",
    "map"
   ]
  },
  {
   "cell_type": "code",
   "execution_count": null,
   "id": "3160ff2a",
   "metadata": {},
   "outputs": [],
   "source": [
    "import pandas as pd\n",
    "import geopandas as gpd\n",
    "import folium\n",
    "locations = (\"https://www.belfastcity.gov.uk/getmedia/f68a4e53-68df-429c-8ac8-a8be9411ab73/belfast-bike-stations-updated-25-june-2021.csv\")\n",
    "bike_station_locations= pd.read_csv(locations)\n",
    "\n",
    "map = folium.Map(location=[bike_station_locations.Latitude.mean(), bike_station_locations.Longitude.mean()], zoom_start=14, control_scale=True)\n",
    "\n",
    "for index, row in bike_station_locations.iterrows():\n",
    "    lat = row['Latitude']\n",
    "    long = row['Longitude']\n",
    "    name = row['Location']\n",
    "    \n",
    "    folium.Marker([lat, long], name).add_to(map)\n",
    "    \n",
    "map.save(\"Belfastbikes.html\")\n",
    "map\n",
    "\n"
   ]
  },
  {
   "cell_type": "code",
   "execution_count": null,
   "id": "cf2d79fa",
   "metadata": {},
   "outputs": [],
   "source": []
  }
 ],
 "metadata": {
  "kernelspec": {
   "display_name": "Python 3 (ipykernel)",
   "language": "python",
   "name": "python3"
  },
  "language_info": {
   "codemirror_mode": {
    "name": "ipython",
    "version": 3
   },
   "file_extension": ".py",
   "mimetype": "text/x-python",
   "name": "python",
   "nbconvert_exporter": "python",
   "pygments_lexer": "ipython3",
   "version": "3.11.3"
  }
 },
 "nbformat": 4,
 "nbformat_minor": 5
}
