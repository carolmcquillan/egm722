{
 "cells": [
  {
   "cell_type": "code",
   "execution_count": 4,
   "id": "a22c6333",
   "metadata": {},
   "outputs": [
    {
     "data": {
      "text/plain": [
       "<bound method NDFrame.head of     Ward Code          Ward  Population  \\\n",
       "0      95DD05     Ballykeel        1739   \n",
       "1      95DD06  Ballyloughan        2588   \n",
       "2      95DD03      Ardeevin        3503   \n",
       "3      95DD04        Ballee        1926   \n",
       "4      95DD09  Craigywarren        2590   \n",
       "..        ...           ...         ...   \n",
       "577    95YY01        Beragh        2508   \n",
       "578    95YY02       Camowen        2283   \n",
       "579    95OO20     Moygashel        2189   \n",
       "580    95OO21   Mullaghmore        2351   \n",
       "581    95OO22   Washing Bay        3106   \n",
       "\n",
       "                                              geometry  \n",
       "0    POLYGON ((-6.25014 54.85879, -6.25015 54.85875...  \n",
       "1    POLYGON ((-6.28913 54.86946, -6.28917 54.86949...  \n",
       "2    POLYGON ((-6.29527 54.84752, -6.29527 54.84751...  \n",
       "3    POLYGON ((-6.26087 54.84528, -6.26096 54.84524...  \n",
       "4    POLYGON ((-6.24807 54.89652, -6.24819 54.89645...  \n",
       "..                                                 ...  \n",
       "577  POLYGON ((-7.14023 54.56573, -7.14012 54.56563...  \n",
       "578  POLYGON ((-7.26513 54.60335, -7.26515 54.60332...  \n",
       "579  POLYGON ((-6.73957 54.47844, -6.73963 54.47844...  \n",
       "580  POLYGON ((-6.77284 54.50165, -6.77291 54.50167...  \n",
       "581  POLYGON ((-6.57819 54.51132, -6.57830 54.51122...  \n",
       "\n",
       "[582 rows x 4 columns]>"
      ]
     },
     "execution_count": 4,
     "metadata": {},
     "output_type": "execute_result"
    }
   ],
   "source": [
    "# this lets us use the figures interactively\n",
    "%matplotlib inline \n",
    "\n",
    "import pandas as pd\n",
    "import geopandas as gpd\n",
    "import matplotlib.pyplot as plt\n",
    "import matplotlib.patches as mpatches\n",
    "import cartopy.crs  as ccrs\n",
    "from shapely.geometry import Point, LineString, Polygon\n",
    "from mpl_toolkits.axes_grid1 import make_axes_locatable\n",
    "from cartopy.feature import ShapelyFeature\n",
    "\n",
    "\n",
    "\n",
    "\n",
    "# ---------------------------------------------------------------------------------------------------------------------\n",
    "Counties = gpd.read_file('data_files/Counties.shp')#  to load the ward and county data and complete the main part of the analysis.\n",
    "NIWards = gpd.read_file('data_files/NI_Wards.NIWards.head"
   ]
  }
 ],
 "metadata": {
  "kernelspec": {
   "display_name": "Python 3 (ipykernel)",
   "language": "python",
   "name": "python3"
  },
  "language_info": {
   "codemirror_mode": {
    "name": "ipython",
    "version": 3
   },
   "file_extension": ".py",
   "mimetype": "text/x-python",
   "name": "python",
   "nbconvert_exporter": "python",
   "pygments_lexer": "ipython3",
   "version": "3.9.16"
  }
 },
 "nbformat": 4,
 "nbformat_minor": 5
}
